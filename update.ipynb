{
 "cells": [
  {
   "cell_type": "code",
   "execution_count": null,
   "metadata": {},
   "outputs": [],
   "source": [
    "import pandas as pd\n",
    "csv_read = pd.read_csv('Database_index.csv')\n",
    "csv_read = csv_read.fillna('')\n",
    "for index in csv_read.index:\n",
    "    path = csv_read['Full Path'][index].split('/')\n",
    "    filename = \"\"\n",
    "    filepath = \"\"\n",
    "    if len(path) >= 3:\n",
    "        for i in range(2, len(path)):\n",
    "            if i == len(path) - 1:\n",
    "                filename += path[i]\n",
    "            else:\n",
    "                filename += path[i] + \"_\"\n",
    "        for i in range(1, len(path)):\n",
    "            filepath += f'- {path[i]}\\n'\n",
    "    else:\n",
    "        filename = path[1]\n",
    "        filepath = f'- {path[1]}\\n'\n",
    "\n",
    "    print(f'Generating page:{filename} at {filepath}...')\n",
    "    f = open(f'source/_posts/{filename}.md', 'w')\n",
    "    if csv_read['Description'][index] != '':\n",
    "        f.write(\n",
    "            f'---\\ntitle: {filename}\\ndate: 2023-10-17\\ntags: \\ncategories:\\n{filepath}\\n---\\n{csv_read[\"Description\"][index]}\\n{csv_read[\"URL\"][index]}\\n')\n",
    "    else:\n",
    "        f.write(\n",
    "            f'---\\ntitle: {filename}\\ndate: 2023-10-17\\ntags: \\ncategories:\\n{filepath}\\n---\\n{csv_read[\"URL\"][index]}\\n')\n",
    "    f.close()\n"
   ]
  }
 ],
 "metadata": {
  "language_info": {
   "name": "python"
  }
 },
 "nbformat": 4,
 "nbformat_minor": 2
}
